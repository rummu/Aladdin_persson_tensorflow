{
 "cells": [
  {
   "cell_type": "code",
   "execution_count": 3,
   "id": "8c99a4bc",
   "metadata": {},
   "outputs": [],
   "source": [
    "import os\n",
    "import pandas as pd\n",
    "import tensorflow as tf\n",
    "import matplotlib.pyplot\n",
    "import numpy as np\n",
    "import tensorflow_datasets as tfds\n",
    "from tensorflow import keras\n",
    "from tensorflow.keras import layers\n",
    "from tensorflow.keras.preprocessing.image import ImageDataGenerator\n",
    "\n",
    "from tensorflow.keras.datasets import mnist\n",
    "\n",
    "from tensorflow.keras.layers import (\n",
    "    BatchNormalization, Conv2D, MaxPooling2D, Activation, Flatten, Dropout, Dense)"
   ]
  },
  {
   "cell_type": "code",
   "execution_count": null,
   "id": "ee46e1ec",
   "metadata": {},
   "outputs": [],
   "source": []
  },
  {
   "cell_type": "code",
   "execution_count": 8,
   "id": "33767a60",
   "metadata": {},
   "outputs": [],
   "source": [
    "directory = 'C:/Users/rumma/Mnist/mnist_data/mnist_images_csv/'"
   ]
  },
  {
   "cell_type": "code",
   "execution_count": 9,
   "id": "d15fe989",
   "metadata": {},
   "outputs": [],
   "source": [
    "df = pd.read_csv(directory+'train.csv')"
   ]
  },
  {
   "cell_type": "code",
   "execution_count": 14,
   "id": "fa6af9f5",
   "metadata": {},
   "outputs": [
    {
     "data": {
      "text/html": [
       "<div>\n",
       "<style scoped>\n",
       "    .dataframe tbody tr th:only-of-type {\n",
       "        vertical-align: middle;\n",
       "    }\n",
       "\n",
       "    .dataframe tbody tr th {\n",
       "        vertical-align: top;\n",
       "    }\n",
       "\n",
       "    .dataframe thead th {\n",
       "        text-align: right;\n",
       "    }\n",
       "</style>\n",
       "<table border=\"1\" class=\"dataframe\">\n",
       "  <thead>\n",
       "    <tr style=\"text-align: right;\">\n",
       "      <th></th>\n",
       "      <th>file_name</th>\n",
       "      <th>label</th>\n",
       "    </tr>\n",
       "  </thead>\n",
       "  <tbody>\n",
       "    <tr>\n",
       "      <th>0</th>\n",
       "      <td>0_1.jpg</td>\n",
       "      <td>0</td>\n",
       "    </tr>\n",
       "    <tr>\n",
       "      <th>1</th>\n",
       "      <td>0_2.jpg</td>\n",
       "      <td>0</td>\n",
       "    </tr>\n",
       "    <tr>\n",
       "      <th>2</th>\n",
       "      <td>0_3.jpg</td>\n",
       "      <td>0</td>\n",
       "    </tr>\n",
       "    <tr>\n",
       "      <th>3</th>\n",
       "      <td>0_4.jpg</td>\n",
       "      <td>0</td>\n",
       "    </tr>\n",
       "    <tr>\n",
       "      <th>4</th>\n",
       "      <td>0_5.jpg</td>\n",
       "      <td>0</td>\n",
       "    </tr>\n",
       "  </tbody>\n",
       "</table>\n",
       "</div>"
      ],
      "text/plain": [
       "  file_name  label\n",
       "0   0_1.jpg      0\n",
       "1   0_2.jpg      0\n",
       "2   0_3.jpg      0\n",
       "3   0_4.jpg      0\n",
       "4   0_5.jpg      0"
      ]
     },
     "execution_count": 14,
     "metadata": {},
     "output_type": "execute_result"
    }
   ],
   "source": [
    "df.head(5)"
   ]
  },
  {
   "cell_type": "code",
   "execution_count": 11,
   "id": "edf4dbf1",
   "metadata": {},
   "outputs": [],
   "source": [
    "file_paths = df['file_name'].values"
   ]
  },
  {
   "cell_type": "code",
   "execution_count": 12,
   "id": "11cd88b6",
   "metadata": {},
   "outputs": [
    {
     "name": "stdout",
     "output_type": "stream",
     "text": [
      "['0_1.jpg' '0_2.jpg' '0_3.jpg' '0_4.jpg' '0_5.jpg' '1_1.jpg' '1_2.jpg'\n",
      " '1_3.jpg' '1_4.jpg' '1_5.jpg' '2_1.jpg' '2_2.jpg' '2_3.jpg' '2_4.jpg'\n",
      " '2_5.jpg' '3_1.jpg' '3_2.jpg' '3_3.jpg' '3_4.jpg' '3_5.jpg' '4_1.jpg'\n",
      " '4_2.jpg' '4_3.jpg' '4_4.jpg' '4_5.jpg' '5_1.jpg' '5_2.jpg' '5_3.jpg'\n",
      " '5_4.jpg' '5_5.jpg' '6_1.jpg' '6_2.jpg' '6_3.jpg' '6_4.jpg' '6_5.jpg'\n",
      " '7_1.jpg' '7_2.jpg' '7_3.jpg' '7_4.jpg' '7_5.jpg' '8_1.jpg' '8_2.jpg'\n",
      " '8_3.jpg' '8_4.jpg' '8_5.jpg' '9_1.jpg' '9_2.jpg' '9_3.jpg' '9_4.jpg'\n",
      " '9_5.jpg']\n"
     ]
    }
   ],
   "source": [
    "print(file_paths)"
   ]
  },
  {
   "cell_type": "code",
   "execution_count": 15,
   "id": "85b915c7",
   "metadata": {},
   "outputs": [],
   "source": [
    "labels = df['label'].values"
   ]
  },
  {
   "cell_type": "code",
   "execution_count": 16,
   "id": "8a4e985a",
   "metadata": {},
   "outputs": [
    {
     "data": {
      "text/plain": [
       "array([0, 0, 0, 0, 0, 1, 1, 1, 1, 1, 2, 2, 2, 2, 2, 3, 3, 3, 3, 3, 4, 4,\n",
       "       4, 4, 4, 5, 5, 5, 5, 5, 6, 6, 6, 6, 6, 7, 7, 7, 7, 7, 8, 8, 8, 8,\n",
       "       8, 9, 9, 9, 9, 9], dtype=int64)"
      ]
     },
     "execution_count": 16,
     "metadata": {},
     "output_type": "execute_result"
    }
   ],
   "source": [
    "labels"
   ]
  },
  {
   "cell_type": "code",
   "execution_count": null,
   "id": "1c30dbba",
   "metadata": {},
   "outputs": [],
   "source": []
  },
  {
   "cell_type": "code",
   "execution_count": 21,
   "id": "46486c11",
   "metadata": {},
   "outputs": [],
   "source": [
    "ds_train = tf.data.Dataset.from_tensor_slices((file_paths,labels))"
   ]
  },
  {
   "cell_type": "code",
   "execution_count": null,
   "id": "0862f337",
   "metadata": {},
   "outputs": [],
   "source": []
  },
  {
   "cell_type": "code",
   "execution_count": 24,
   "id": "033d9de6",
   "metadata": {},
   "outputs": [],
   "source": [
    "def read_image(image_file, label):\n",
    "    image = tf.io.read_file(directory + image_file)\n",
    "    image = tf.image.decode_image(image, channels=1, dtype=tf.float32)\n",
    "    return image, label"
   ]
  },
  {
   "cell_type": "code",
   "execution_count": 25,
   "id": "80f741d4",
   "metadata": {},
   "outputs": [],
   "source": [
    "def augment(image, label):\n",
    "    # data augmentation here\n",
    "    return image, label\n"
   ]
  },
  {
   "cell_type": "code",
   "execution_count": 26,
   "id": "61cadd03",
   "metadata": {},
   "outputs": [],
   "source": [
    "ds_train = ds_train.map(read_image).map(augment).batch(2)"
   ]
  },
  {
   "cell_type": "code",
   "execution_count": null,
   "id": "adeea9a7",
   "metadata": {},
   "outputs": [],
   "source": []
  },
  {
   "cell_type": "code",
   "execution_count": 27,
   "id": "845879ca",
   "metadata": {},
   "outputs": [],
   "source": [
    "for epoch in range(10):\n",
    "    for x, y in ds_train:\n",
    "        # train here\n",
    "        pass\n"
   ]
  },
  {
   "cell_type": "code",
   "execution_count": 28,
   "id": "8d87ffff",
   "metadata": {},
   "outputs": [],
   "source": [
    "model = keras.Sequential(\n",
    "    [\n",
    "        layers.Input((28, 28, 1)),\n",
    "        layers.Conv2D(16, 3, padding=\"same\"),\n",
    "        layers.Conv2D(32, 3, padding=\"same\"),\n",
    "        layers.MaxPooling2D(),\n",
    "        layers.Flatten(),\n",
    "        layers.Dense(10),\n",
    "    ]\n",
    ")\n"
   ]
  },
  {
   "cell_type": "code",
   "execution_count": 29,
   "id": "943223d8",
   "metadata": {},
   "outputs": [],
   "source": [
    "model.compile(\n",
    "    optimizer=keras.optimizers.Adam(),\n",
    "    loss=[keras.losses.SparseCategoricalCrossentropy(from_logits=True),],\n",
    "    metrics=[\"accuracy\"],\n",
    ")"
   ]
  },
  {
   "cell_type": "code",
   "execution_count": null,
   "id": "6680d415",
   "metadata": {},
   "outputs": [],
   "source": []
  },
  {
   "cell_type": "code",
   "execution_count": 30,
   "id": "0c5a17b8",
   "metadata": {},
   "outputs": [
    {
     "name": "stdout",
     "output_type": "stream",
     "text": [
      "Epoch 1/10\n",
      "25/25 - 0s - loss: 2.5041 - accuracy: 0.0600 - 494ms/epoch - 20ms/step\n",
      "Epoch 2/10\n",
      "25/25 - 0s - loss: 2.7002 - accuracy: 0.1000 - 112ms/epoch - 4ms/step\n",
      "Epoch 3/10\n",
      "25/25 - 0s - loss: 1.2786 - accuracy: 0.9800 - 126ms/epoch - 5ms/step\n",
      "Epoch 4/10\n",
      "25/25 - 0s - loss: 0.4852 - accuracy: 0.9800 - 159ms/epoch - 6ms/step\n",
      "Epoch 5/10\n",
      "25/25 - 0s - loss: 0.1003 - accuracy: 1.0000 - 138ms/epoch - 6ms/step\n",
      "Epoch 6/10\n",
      "25/25 - 0s - loss: 0.0332 - accuracy: 1.0000 - 91ms/epoch - 4ms/step\n",
      "Epoch 7/10\n",
      "25/25 - 0s - loss: 0.0184 - accuracy: 1.0000 - 90ms/epoch - 4ms/step\n",
      "Epoch 8/10\n",
      "25/25 - 0s - loss: 0.0124 - accuracy: 1.0000 - 135ms/epoch - 5ms/step\n",
      "Epoch 9/10\n",
      "25/25 - 0s - loss: 0.0092 - accuracy: 1.0000 - 76ms/epoch - 3ms/step\n",
      "Epoch 10/10\n",
      "25/25 - 0s - loss: 0.0071 - accuracy: 1.0000 - 71ms/epoch - 3ms/step\n"
     ]
    },
    {
     "data": {
      "text/plain": [
       "<keras.callbacks.History at 0x176b7b41fa0>"
      ]
     },
     "execution_count": 30,
     "metadata": {},
     "output_type": "execute_result"
    }
   ],
   "source": [
    "model.fit(ds_train, epochs=10, verbose=2)"
   ]
  },
  {
   "cell_type": "code",
   "execution_count": null,
   "id": "7ddf4fe7",
   "metadata": {},
   "outputs": [],
   "source": []
  },
  {
   "cell_type": "code",
   "execution_count": null,
   "id": "24102eb1",
   "metadata": {},
   "outputs": [],
   "source": []
  }
 ],
 "metadata": {
  "kernelspec": {
   "display_name": "Python 3 (ipykernel)",
   "language": "python",
   "name": "python3"
  },
  "language_info": {
   "codemirror_mode": {
    "name": "ipython",
    "version": 3
   },
   "file_extension": ".py",
   "mimetype": "text/x-python",
   "name": "python",
   "nbconvert_exporter": "python",
   "pygments_lexer": "ipython3",
   "version": "3.9.7"
  }
 },
 "nbformat": 4,
 "nbformat_minor": 5
}
