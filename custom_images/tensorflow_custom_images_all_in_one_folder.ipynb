{
 "cells": [
  {
   "cell_type": "code",
   "execution_count": 21,
   "id": "c52ce9ea",
   "metadata": {},
   "outputs": [],
   "source": [
    "import os\n",
    "import pathlib\n",
    "import pandas as pd\n",
    "import tensorflow as tf\n",
    "import matplotlib.pyplot\n",
    "import numpy as np\n",
    "import tensorflow_datasets as tfds\n",
    "from tensorflow import keras\n",
    "from tensorflow.keras import layers\n",
    "from tensorflow.keras.preprocessing.image import ImageDataGenerator\n",
    "\n",
    "from tensorflow.keras.datasets import mnist\n",
    "\n",
    "from tensorflow.keras.layers import (\n",
    "    BatchNormalization, Conv2D, MaxPooling2D, Activation, Flatten, Dropout, Dense)"
   ]
  },
  {
   "cell_type": "code",
   "execution_count": null,
   "id": "17874cfb",
   "metadata": {},
   "outputs": [],
   "source": []
  },
  {
   "cell_type": "code",
   "execution_count": 22,
   "id": "8c82fe53",
   "metadata": {},
   "outputs": [],
   "source": [
    "batch_size = 2\n",
    "img_height = 28\n",
    "img_width = 28"
   ]
  },
  {
   "cell_type": "code",
   "execution_count": 23,
   "id": "50a7e58e",
   "metadata": {},
   "outputs": [],
   "source": [
    "directory = 'C:/Users/rumma/Mnist/mnist_data/mnist_images_only/'"
   ]
  },
  {
   "cell_type": "code",
   "execution_count": 24,
   "id": "25676525",
   "metadata": {},
   "outputs": [],
   "source": [
    "ds_train = tf.data.Dataset.list_files(str(pathlib.Path(directory + \"*.jpg\")))"
   ]
  },
  {
   "cell_type": "code",
   "execution_count": null,
   "id": "dd8190e6",
   "metadata": {},
   "outputs": [],
   "source": []
  },
  {
   "cell_type": "code",
   "execution_count": 33,
   "id": "1f3f1f56",
   "metadata": {},
   "outputs": [],
   "source": [
    "def process_path(file_path):\n",
    "    image = tf.io.read_file(file_path)\n",
    "    image = tf.image.decode_jpeg(image, channels=1)\n",
    "    label = tf.strings.split(file_path, \"\\\\\")\n",
    "    label = tf.strings.substr(label, pos=0, len=1)[6]\n",
    "    label = tf.strings.to_number(label, out_type=tf.int64)\n",
    "    return image, label"
   ]
  },
  {
   "cell_type": "code",
   "execution_count": 32,
   "id": "934e24c6",
   "metadata": {},
   "outputs": [
    {
     "name": "stdout",
     "output_type": "stream",
     "text": [
      "tf.Tensor(b'5_2.jpg', shape=(), dtype=string)\n",
      "tf.Tensor(b'8_2.jpg', shape=(), dtype=string)\n",
      "tf.Tensor(b'8_5.jpg', shape=(), dtype=string)\n",
      "tf.Tensor(b'7_1.jpg', shape=(), dtype=string)\n",
      "tf.Tensor(b'3_3.jpg', shape=(), dtype=string)\n",
      "tf.Tensor(b'7_5.jpg', shape=(), dtype=string)\n",
      "tf.Tensor(b'1_2.jpg', shape=(), dtype=string)\n",
      "tf.Tensor(b'3_5.jpg', shape=(), dtype=string)\n",
      "tf.Tensor(b'4_4.jpg', shape=(), dtype=string)\n",
      "tf.Tensor(b'1_1.jpg', shape=(), dtype=string)\n",
      "tf.Tensor(b'5_1.jpg', shape=(), dtype=string)\n",
      "tf.Tensor(b'0_4.jpg', shape=(), dtype=string)\n",
      "tf.Tensor(b'6_4.jpg', shape=(), dtype=string)\n",
      "tf.Tensor(b'4_2.jpg', shape=(), dtype=string)\n",
      "tf.Tensor(b'2_5.jpg', shape=(), dtype=string)\n",
      "tf.Tensor(b'7_2.jpg', shape=(), dtype=string)\n",
      "tf.Tensor(b'5_5.jpg', shape=(), dtype=string)\n",
      "tf.Tensor(b'4_3.jpg', shape=(), dtype=string)\n",
      "tf.Tensor(b'4_1.jpg', shape=(), dtype=string)\n",
      "tf.Tensor(b'3_4.jpg', shape=(), dtype=string)\n",
      "tf.Tensor(b'7_3.jpg', shape=(), dtype=string)\n",
      "tf.Tensor(b'9_4.jpg', shape=(), dtype=string)\n",
      "tf.Tensor(b'6_2.jpg', shape=(), dtype=string)\n",
      "tf.Tensor(b'6_3.jpg', shape=(), dtype=string)\n",
      "tf.Tensor(b'0_5.jpg', shape=(), dtype=string)\n",
      "tf.Tensor(b'0_3.jpg', shape=(), dtype=string)\n",
      "tf.Tensor(b'4_5.jpg', shape=(), dtype=string)\n",
      "tf.Tensor(b'0_1.jpg', shape=(), dtype=string)\n",
      "tf.Tensor(b'8_4.jpg', shape=(), dtype=string)\n",
      "tf.Tensor(b'3_1.jpg', shape=(), dtype=string)\n",
      "tf.Tensor(b'9_1.jpg', shape=(), dtype=string)\n",
      "tf.Tensor(b'2_2.jpg', shape=(), dtype=string)\n",
      "tf.Tensor(b'6_1.jpg', shape=(), dtype=string)\n",
      "tf.Tensor(b'2_4.jpg', shape=(), dtype=string)\n",
      "tf.Tensor(b'1_3.jpg', shape=(), dtype=string)\n",
      "tf.Tensor(b'5_4.jpg', shape=(), dtype=string)\n",
      "tf.Tensor(b'3_2.jpg', shape=(), dtype=string)\n",
      "tf.Tensor(b'9_2.jpg', shape=(), dtype=string)\n",
      "tf.Tensor(b'7_4.jpg', shape=(), dtype=string)\n",
      "tf.Tensor(b'1_5.jpg', shape=(), dtype=string)\n",
      "tf.Tensor(b'8_3.jpg', shape=(), dtype=string)\n",
      "tf.Tensor(b'2_3.jpg', shape=(), dtype=string)\n",
      "tf.Tensor(b'6_5.jpg', shape=(), dtype=string)\n",
      "tf.Tensor(b'8_1.jpg', shape=(), dtype=string)\n",
      "tf.Tensor(b'0_2.jpg', shape=(), dtype=string)\n",
      "tf.Tensor(b'1_4.jpg', shape=(), dtype=string)\n",
      "tf.Tensor(b'9_5.jpg', shape=(), dtype=string)\n",
      "tf.Tensor(b'5_3.jpg', shape=(), dtype=string)\n",
      "tf.Tensor(b'9_3.jpg', shape=(), dtype=string)\n",
      "tf.Tensor(b'2_1.jpg', shape=(), dtype=string)\n"
     ]
    }
   ],
   "source": [
    "for filepath in ds_train:\n",
    "    print(tf.strings.split(filepath,'\\\\')[6])"
   ]
  },
  {
   "cell_type": "code",
   "execution_count": null,
   "id": "599bab11",
   "metadata": {},
   "outputs": [],
   "source": []
  },
  {
   "cell_type": "code",
   "execution_count": 34,
   "id": "d69c09ae",
   "metadata": {},
   "outputs": [],
   "source": [
    "ds_train = ds_train.map(process_path).batch(batch_size)"
   ]
  },
  {
   "cell_type": "code",
   "execution_count": null,
   "id": "3d662e02",
   "metadata": {},
   "outputs": [],
   "source": []
  },
  {
   "cell_type": "code",
   "execution_count": 35,
   "id": "97c35c38",
   "metadata": {},
   "outputs": [],
   "source": [
    "model = keras.Sequential(\n",
    "    [\n",
    "        layers.Input((28, 28, 1)),\n",
    "        layers.Conv2D(16, 3, padding=\"same\"),\n",
    "        layers.Conv2D(32, 3, padding=\"same\"),\n",
    "        layers.MaxPooling2D(),\n",
    "        layers.Flatten(),\n",
    "        layers.Dense(10),\n",
    "    ]\n",
    ")\n"
   ]
  },
  {
   "cell_type": "code",
   "execution_count": 36,
   "id": "95a85b8a",
   "metadata": {},
   "outputs": [],
   "source": [
    "model.compile(\n",
    "    optimizer=keras.optimizers.Adam(),\n",
    "    loss=[keras.losses.SparseCategoricalCrossentropy(from_logits=True),],\n",
    "    metrics=[\"accuracy\"],\n",
    ")"
   ]
  },
  {
   "cell_type": "code",
   "execution_count": 37,
   "id": "5ff469ff",
   "metadata": {},
   "outputs": [
    {
     "name": "stdout",
     "output_type": "stream",
     "text": [
      "Epoch 1/10\n",
      "25/25 - 0s - loss: 61.5288 - accuracy: 0.1400 - 431ms/epoch - 17ms/step\n",
      "Epoch 2/10\n",
      "25/25 - 0s - loss: 6.7358 - accuracy: 0.8400 - 94ms/epoch - 4ms/step\n",
      "Epoch 3/10\n",
      "25/25 - 0s - loss: 1.0015 - accuracy: 0.9400 - 109ms/epoch - 4ms/step\n",
      "Epoch 4/10\n",
      "25/25 - 0s - loss: 1.2006 - accuracy: 0.9600 - 108ms/epoch - 4ms/step\n",
      "Epoch 5/10\n",
      "25/25 - 0s - loss: 0.6668 - accuracy: 0.9800 - 106ms/epoch - 4ms/step\n",
      "Epoch 6/10\n",
      "25/25 - 0s - loss: 0.0625 - accuracy: 0.9800 - 115ms/epoch - 5ms/step\n",
      "Epoch 7/10\n",
      "25/25 - 0s - loss: 0.0000e+00 - accuracy: 1.0000 - 93ms/epoch - 4ms/step\n",
      "Epoch 8/10\n",
      "25/25 - 0s - loss: 0.0000e+00 - accuracy: 1.0000 - 102ms/epoch - 4ms/step\n",
      "Epoch 9/10\n",
      "25/25 - 0s - loss: 0.0000e+00 - accuracy: 1.0000 - 80ms/epoch - 3ms/step\n",
      "Epoch 10/10\n",
      "25/25 - 0s - loss: 0.0000e+00 - accuracy: 1.0000 - 90ms/epoch - 4ms/step\n"
     ]
    },
    {
     "data": {
      "text/plain": [
       "<keras.callbacks.History at 0x1db75f98af0>"
      ]
     },
     "execution_count": 37,
     "metadata": {},
     "output_type": "execute_result"
    }
   ],
   "source": [
    "model.fit(ds_train, epochs=10, verbose=2)"
   ]
  },
  {
   "cell_type": "code",
   "execution_count": null,
   "id": "636a0f26",
   "metadata": {},
   "outputs": [],
   "source": []
  },
  {
   "cell_type": "code",
   "execution_count": null,
   "id": "3080c4d1",
   "metadata": {},
   "outputs": [],
   "source": []
  },
  {
   "cell_type": "code",
   "execution_count": null,
   "id": "d0a9eb5a",
   "metadata": {},
   "outputs": [],
   "source": []
  }
 ],
 "metadata": {
  "kernelspec": {
   "display_name": "Python 3 (ipykernel)",
   "language": "python",
   "name": "python3"
  },
  "language_info": {
   "codemirror_mode": {
    "name": "ipython",
    "version": 3
   },
   "file_extension": ".py",
   "mimetype": "text/x-python",
   "name": "python",
   "nbconvert_exporter": "python",
   "pygments_lexer": "ipython3",
   "version": "3.9.7"
  }
 },
 "nbformat": 4,
 "nbformat_minor": 5
}
