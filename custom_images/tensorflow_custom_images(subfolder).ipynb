{
 "cells": [
  {
   "cell_type": "code",
   "execution_count": 8,
   "id": "b0491fcf",
   "metadata": {},
   "outputs": [],
   "source": [
    "import os\n",
    "import tensorflow as tf\n",
    "import matplotlib.pyplot\n",
    "import numpy as np\n",
    "import tensorflow_datasets as tfds\n",
    "from tensorflow import keras\n",
    "from tensorflow.keras import layers\n",
    "from tensorflow.keras.preprocessing.image import ImageDataGenerator\n",
    "\n",
    "from tensorflow.keras.datasets import mnist\n",
    "\n",
    "from tensorflow.keras.layers import (\n",
    "    BatchNormalization, Conv2D, MaxPooling2D, Activation, Flatten, Dropout, Dense)"
   ]
  },
  {
   "cell_type": "code",
   "execution_count": null,
   "id": "e7b89f08",
   "metadata": {},
   "outputs": [],
   "source": []
  },
  {
   "cell_type": "code",
   "execution_count": 9,
   "id": "17cae703",
   "metadata": {},
   "outputs": [],
   "source": [
    "img_height = 28\n",
    "img_width = 28\n",
    "batch_size = 2"
   ]
  },
  {
   "cell_type": "code",
   "execution_count": 10,
   "id": "e561b114",
   "metadata": {},
   "outputs": [],
   "source": [
    "model = keras.Sequential(\n",
    "    [\n",
    "        layers.Input((28,28,1)),\n",
    "        layers.Conv2D(16,3,padding='same'),\n",
    "        layers.Conv2D(32,3,padding='same'),\n",
    "        layers.MaxPooling2D(),\n",
    "        \n",
    "        layers.Flatten(),\n",
    "        layers.Dense(10)\n",
    "    ]\n",
    ")"
   ]
  },
  {
   "cell_type": "code",
   "execution_count": null,
   "id": "04acb752",
   "metadata": {},
   "outputs": [],
   "source": []
  },
  {
   "cell_type": "code",
   "execution_count": 24,
   "id": "b347812f",
   "metadata": {},
   "outputs": [
    {
     "name": "stdout",
     "output_type": "stream",
     "text": [
      "Found 50 files belonging to 10 classes.\n",
      "Using 45 files for training.\n"
     ]
    }
   ],
   "source": [
    "#Method-1\n",
    "ds_train = tf.keras.preprocessing.image_dataset_from_directory(\n",
    "    'C:/Users/rumma/Mnist/mnist_data/mnist_subfolders',\n",
    "    labels = 'inferred',\n",
    "    label_mode = 'int', #categorical,binary\n",
    "    #class_names=['0','1','2','3',....]\n",
    "    color_mode = 'grayscale',\n",
    "    batch_size=batch_size,\n",
    "    image_size = (img_height,img_width),#reshape if not is this size\n",
    "    shuffle=True,\n",
    "    seed=123,\n",
    "    validation_split=0.1,\n",
    "    subset='training',\n",
    "    \n",
    ")"
   ]
  },
  {
   "cell_type": "code",
   "execution_count": 25,
   "id": "35d3f900",
   "metadata": {},
   "outputs": [
    {
     "name": "stdout",
     "output_type": "stream",
     "text": [
      "Found 50 files belonging to 10 classes.\n",
      "Using 5 files for validation.\n"
     ]
    }
   ],
   "source": [
    "ds_validation = tf.keras.preprocessing.image_dataset_from_directory(\n",
    "    'C:/Users/rumma/Mnist/mnist_data/mnist_subfolders',\n",
    "    labels = 'inferred',\n",
    "    label_mode = 'int', #categorical,binary\n",
    "    #class_names=['0','1','2','3',....]\n",
    "    color_mode = 'grayscale',\n",
    "    batch_size=batch_size,\n",
    "    image_size = (img_height,img_width),#reshape if not is this size\n",
    "    shuffle=True,\n",
    "    seed=123,\n",
    "    validation_split=0.1,\n",
    "    subset='validation',\n",
    "    \n",
    ")"
   ]
  },
  {
   "cell_type": "code",
   "execution_count": null,
   "id": "0786dc9d",
   "metadata": {},
   "outputs": [],
   "source": []
  },
  {
   "cell_type": "code",
   "execution_count": 26,
   "id": "d09edacf",
   "metadata": {},
   "outputs": [],
   "source": [
    "def augment(x,y):\n",
    "    image = tf.image.random_brightness(x,max_delta=0.05)\n",
    "    return image,y"
   ]
  },
  {
   "cell_type": "code",
   "execution_count": 27,
   "id": "f0a72943",
   "metadata": {},
   "outputs": [],
   "source": [
    "ds_train = ds_train.map(augment)"
   ]
  },
  {
   "cell_type": "code",
   "execution_count": null,
   "id": "1b6627a8",
   "metadata": {},
   "outputs": [],
   "source": []
  },
  {
   "cell_type": "code",
   "execution_count": 28,
   "id": "8bf7c580",
   "metadata": {},
   "outputs": [],
   "source": [
    "#custom loops\n",
    "for epochs in range(10):\n",
    "    for x,y in ds_train:\n",
    "        #train here\n",
    "        pass"
   ]
  },
  {
   "cell_type": "code",
   "execution_count": 29,
   "id": "732206fb",
   "metadata": {},
   "outputs": [],
   "source": [
    "model.compile(\n",
    "    optimizer = keras.optimizers.Adam(),\n",
    "    loss=[keras.losses.SparseCategoricalCrossentropy(from_logits=True)],\n",
    "    metrics = ['accuracy']\n",
    ")"
   ]
  },
  {
   "cell_type": "code",
   "execution_count": null,
   "id": "f555de55",
   "metadata": {},
   "outputs": [],
   "source": []
  },
  {
   "cell_type": "code",
   "execution_count": 30,
   "id": "42878bad",
   "metadata": {},
   "outputs": [
    {
     "name": "stdout",
     "output_type": "stream",
     "text": [
      "Epoch 1/10\n",
      "23/23 - 1s - loss: 82.4096 - accuracy: 0.1556 - 994ms/epoch - 43ms/step\n",
      "Epoch 2/10\n",
      "23/23 - 0s - loss: 6.4453 - accuracy: 0.7778 - 198ms/epoch - 9ms/step\n",
      "Epoch 3/10\n",
      "23/23 - 0s - loss: 0.1408 - accuracy: 0.9778 - 192ms/epoch - 8ms/step\n",
      "Epoch 4/10\n",
      "23/23 - 0s - loss: 1.3714e-04 - accuracy: 1.0000 - 185ms/epoch - 8ms/step\n",
      "Epoch 5/10\n",
      "23/23 - 0s - loss: 0.4663 - accuracy: 0.9778 - 198ms/epoch - 9ms/step\n",
      "Epoch 6/10\n",
      "23/23 - 0s - loss: 6.6227e-08 - accuracy: 1.0000 - 193ms/epoch - 8ms/step\n",
      "Epoch 7/10\n",
      "23/23 - 0s - loss: 0.2663 - accuracy: 0.9778 - 182ms/epoch - 8ms/step\n",
      "Epoch 8/10\n",
      "23/23 - 0s - loss: 0.2113 - accuracy: 0.9778 - 174ms/epoch - 8ms/step\n",
      "Epoch 9/10\n",
      "23/23 - 0s - loss: 0.0031 - accuracy: 1.0000 - 177ms/epoch - 8ms/step\n",
      "Epoch 10/10\n",
      "23/23 - 0s - loss: 0.0255 - accuracy: 0.9778 - 186ms/epoch - 8ms/step\n"
     ]
    },
    {
     "data": {
      "text/plain": [
       "<keras.callbacks.History at 0x1b065a68550>"
      ]
     },
     "execution_count": 30,
     "metadata": {},
     "output_type": "execute_result"
    }
   ],
   "source": [
    "model.fit(ds_train,epochs=10,verbose=2)"
   ]
  },
  {
   "cell_type": "code",
   "execution_count": 37,
   "id": "3a25f558",
   "metadata": {},
   "outputs": [
    {
     "name": "stdout",
     "output_type": "stream",
     "text": [
      "3/3 - 0s - loss: 20.1242 - accuracy: 0.6000 - 51ms/epoch - 17ms/step\n"
     ]
    },
    {
     "data": {
      "text/plain": [
       "[20.124174118041992, 0.6000000238418579]"
      ]
     },
     "execution_count": 37,
     "metadata": {},
     "output_type": "execute_result"
    }
   ],
   "source": [
    "model.evaluate(ds_validation,verbose=2)"
   ]
  },
  {
   "cell_type": "code",
   "execution_count": null,
   "id": "7233cf23",
   "metadata": {},
   "outputs": [],
   "source": []
  },
  {
   "cell_type": "code",
   "execution_count": null,
   "id": "058c590e",
   "metadata": {},
   "outputs": [],
   "source": []
  },
  {
   "cell_type": "code",
   "execution_count": null,
   "id": "74f4d3bf",
   "metadata": {},
   "outputs": [],
   "source": []
  },
  {
   "cell_type": "code",
   "execution_count": null,
   "id": "68de2ae2",
   "metadata": {},
   "outputs": [],
   "source": []
  },
  {
   "cell_type": "code",
   "execution_count": 46,
   "id": "aba139ed",
   "metadata": {},
   "outputs": [],
   "source": [
    "#Method-2 (ImageDataGenerator)\n",
    "datagen = ImageDataGenerator(\n",
    "    rescale=1.0 / 255,\n",
    "    rotation_range=5,\n",
    "    zoom_range=(0.95, 0.95),\n",
    "    horizontal_flip=False,\n",
    "    vertical_flip=False,\n",
    "    data_format=\"channels_last\",\n",
    "    validation_split=0.0,\n",
    "#     dtype=tf.float32,\n",
    ")"
   ]
  },
  {
   "cell_type": "code",
   "execution_count": 47,
   "id": "6cad62b5",
   "metadata": {},
   "outputs": [
    {
     "name": "stdout",
     "output_type": "stream",
     "text": [
      "Found 50 images belonging to 10 classes.\n"
     ]
    }
   ],
   "source": [
    "train_generator = datagen.flow_from_directory(\n",
    "    \"C:/Users/rumma/Mnist/mnist_data/mnist_subfolders\",\n",
    "    target_size=(img_height, img_width),\n",
    "    batch_size=batch_size,\n",
    "    color_mode=\"grayscale\",\n",
    "    class_mode=\"sparse\",\n",
    "    shuffle=True,\n",
    "    subset=\"training\",\n",
    "    seed=123,\n",
    ")"
   ]
  },
  {
   "cell_type": "code",
   "execution_count": null,
   "id": "3dedcff6",
   "metadata": {},
   "outputs": [],
   "source": []
  },
  {
   "cell_type": "code",
   "execution_count": 50,
   "id": "26741d17",
   "metadata": {},
   "outputs": [
    {
     "name": "stdout",
     "output_type": "stream",
     "text": [
      "Found 50 files belonging to 10 classes.\n",
      "Using 45 files for training.\n"
     ]
    }
   ],
   "source": [
    "ds_train = tf.keras.preprocessing.image_dataset_from_directory(\n",
    "    'C:/Users/rumma/Mnist/mnist_data/mnist_subfolders',\n",
    "    labels = 'inferred',\n",
    "    label_mode = 'int', #categorical,binary\n",
    "    #class_names=['0','1','2','3',....]\n",
    "    color_mode = 'grayscale',\n",
    "    batch_size=batch_size,\n",
    "    image_size = (img_height,img_width),#reshape if not is this size\n",
    "    shuffle=True,\n",
    "    seed=123,\n",
    "    validation_split=0.1,\n",
    "    subset='training',\n",
    "    \n",
    ")"
   ]
  },
  {
   "cell_type": "code",
   "execution_count": 51,
   "id": "efbaaf27",
   "metadata": {},
   "outputs": [],
   "source": [
    "def augment(x,y):\n",
    "    image = tf.image.random_brightness(x,max_delta=0.05)\n",
    "    return image,y"
   ]
  },
  {
   "cell_type": "code",
   "execution_count": 52,
   "id": "d1836bb4",
   "metadata": {},
   "outputs": [],
   "source": [
    "ds_train = ds_train.map(augment)"
   ]
  },
  {
   "cell_type": "code",
   "execution_count": null,
   "id": "9f5da6c6",
   "metadata": {},
   "outputs": [],
   "source": []
  },
  {
   "cell_type": "code",
   "execution_count": 53,
   "id": "80e36699",
   "metadata": {},
   "outputs": [],
   "source": [
    "def training():\n",
    "    pass\n",
    "\n",
    "\n",
    "# Custom Loops\n",
    "for epoch in range(10):\n",
    "    num_batches = 0\n",
    "\n",
    "    for x, y in ds_train:\n",
    "        num_batches += 1\n",
    "\n",
    "        # do training\n",
    "        training()\n",
    "\n",
    "        if num_batches == 25:  # len(train_dataset)/batch_size\n",
    "            break\n"
   ]
  },
  {
   "cell_type": "code",
   "execution_count": null,
   "id": "70196a2c",
   "metadata": {},
   "outputs": [],
   "source": []
  },
  {
   "cell_type": "code",
   "execution_count": 48,
   "id": "92f4bca0",
   "metadata": {},
   "outputs": [],
   "source": [
    "model.compile(\n",
    "    optimizer=keras.optimizers.Adam(),\n",
    "    loss=[keras.losses.SparseCategoricalCrossentropy(from_logits=True),],\n",
    "    metrics=[\"accuracy\"],\n",
    ")"
   ]
  },
  {
   "cell_type": "code",
   "execution_count": 49,
   "id": "2b27c840",
   "metadata": {},
   "outputs": [
    {
     "name": "stdout",
     "output_type": "stream",
     "text": [
      "Epoch 1/10\n",
      "25/25 - 1s - loss: 0.0031 - accuracy: 1.0000 - 921ms/epoch - 37ms/step\n",
      "Epoch 2/10\n",
      "25/25 - 0s - loss: 0.0042 - accuracy: 1.0000 - 198ms/epoch - 8ms/step\n",
      "Epoch 3/10\n",
      "25/25 - 0s - loss: 0.0019 - accuracy: 1.0000 - 194ms/epoch - 8ms/step\n",
      "Epoch 4/10\n",
      "25/25 - 0s - loss: 0.0023 - accuracy: 1.0000 - 183ms/epoch - 7ms/step\n",
      "Epoch 5/10\n",
      "25/25 - 0s - loss: 0.0214 - accuracy: 1.0000 - 186ms/epoch - 7ms/step\n",
      "Epoch 6/10\n",
      "25/25 - 0s - loss: 0.0637 - accuracy: 0.9800 - 184ms/epoch - 7ms/step\n",
      "Epoch 7/10\n",
      "25/25 - 0s - loss: 0.0286 - accuracy: 0.9800 - 200ms/epoch - 8ms/step\n",
      "Epoch 8/10\n",
      "25/25 - 0s - loss: 0.0010 - accuracy: 1.0000 - 197ms/epoch - 8ms/step\n",
      "Epoch 9/10\n",
      "25/25 - 0s - loss: 1.0797e-04 - accuracy: 1.0000 - 201ms/epoch - 8ms/step\n",
      "Epoch 10/10\n",
      "25/25 - 0s - loss: 8.7732e-05 - accuracy: 1.0000 - 206ms/epoch - 8ms/step\n"
     ]
    },
    {
     "data": {
      "text/plain": [
       "<keras.callbacks.History at 0x20b832e7df0>"
      ]
     },
     "execution_count": 49,
     "metadata": {},
     "output_type": "execute_result"
    }
   ],
   "source": [
    "model.fit(\n",
    "    train_generator,\n",
    "    epochs=10,\n",
    "    steps_per_epoch=25,\n",
    "    verbose=2,\n",
    "    # if we had a validation generator:\n",
    "    # validation_data=validation_generator,\n",
    "    # valiation_steps=len(validation_set)/batch_size),\n",
    "    \n",
    ")"
   ]
  },
  {
   "cell_type": "code",
   "execution_count": null,
   "id": "40ffcbbc",
   "metadata": {},
   "outputs": [],
   "source": []
  },
  {
   "cell_type": "code",
   "execution_count": null,
   "id": "40ee1d45",
   "metadata": {},
   "outputs": [],
   "source": []
  }
 ],
 "metadata": {
  "kernelspec": {
   "display_name": "Python 3 (ipykernel)",
   "language": "python",
   "name": "python3"
  },
  "language_info": {
   "codemirror_mode": {
    "name": "ipython",
    "version": 3
   },
   "file_extension": ".py",
   "mimetype": "text/x-python",
   "name": "python",
   "nbconvert_exporter": "python",
   "pygments_lexer": "ipython3",
   "version": "3.9.7"
  }
 },
 "nbformat": 4,
 "nbformat_minor": 5
}
